{
  "nbformat": 4,
  "nbformat_minor": 0,
  "metadata": {
    "colab": {
      "name": "Semantic_Search.ipynb",
      "provenance": [],
      "collapsed_sections": [],
      "toc_visible": true
    },
    "kernelspec": {
      "name": "python3",
      "display_name": "Python 3"
    }
  },
  "cells": [
    {
      "cell_type": "code",
      "metadata": {
        "id": "t6FcCeRR5tPs"
      },
      "source": [
        "!pip install -q apache_beam\n",
        "!pip install -q annoy"
      ],
      "execution_count": null,
      "outputs": []
    },
    {
      "cell_type": "code",
      "metadata": {
        "id": "ViDu0A5c_NTS"
      },
      "source": [
        "import os\n",
        "import sys\n",
        "import pickle\n",
        "from collections import namedtuple\n",
        "from datetime import datetime\n",
        "import numpy as np\n",
        "import apache_beam as beam\n",
        "from apache_beam.transforms import util\n",
        "import tensorflow as tf\n",
        "import tensorflow_hub as hub\n",
        "import annoy\n",
        "from sklearn.random_projection import gaussian_random_matrix\n",
        "import pandas as pd"
      ],
      "execution_count": null,
      "outputs": []
    },
    {
      "cell_type": "code",
      "metadata": {
        "colab": {
          "base_uri": "https://localhost:8080/"
        },
        "id": "pO32pfro_a2U",
        "outputId": "940c7793-87bf-4f8d-eb0f-b86291e34c68"
      },
      "source": [
        "!wget 'https://dataverse.harvard.edu/api/access/datafile/3450625?format=tab&gbrecs=true' -O raw.tsv\n",
        "!wc -l raw.tsv"
      ],
      "execution_count": null,
      "outputs": [
        {
          "output_type": "stream",
          "text": [
            "--2020-12-19 19:01:17--  https://dataverse.harvard.edu/api/access/datafile/3450625?format=tab&gbrecs=true\n",
            "Resolving dataverse.harvard.edu (dataverse.harvard.edu)... 206.191.184.198\n",
            "Connecting to dataverse.harvard.edu (dataverse.harvard.edu)|206.191.184.198|:443... connected.\n",
            "HTTP request sent, awaiting response... 200 OK\n",
            "Length: 57600231 (55M) [text/tab-separated-values]\n",
            "Saving to: ‘raw.tsv’\n",
            "\n",
            "raw.tsv             100%[===================>]  54.93M  28.7MB/s    in 1.9s    \n",
            "\n",
            "2020-12-19 19:01:20 (28.7 MB/s) - ‘raw.tsv’ saved [57600231/57600231]\n",
            "\n",
            "1103664 raw.tsv\n"
          ],
          "name": "stdout"
        }
      ]
    },
    {
      "cell_type": "code",
      "metadata": {
        "colab": {
          "base_uri": "https://localhost:8080/",
          "height": 204
        },
        "id": "ECpV15kKvvwV",
        "outputId": "56e5ae48-312b-497b-bd30-b00e0a9ee1e5"
      },
      "source": [
        "raw_df = pd.read_csv('raw.tsv', sep=\"\\t\")\n",
        "raw_df.head()"
      ],
      "execution_count": null,
      "outputs": [
        {
          "output_type": "execute_result",
          "data": {
            "text/html": [
              "<div>\n",
              "<style scoped>\n",
              "    .dataframe tbody tr th:only-of-type {\n",
              "        vertical-align: middle;\n",
              "    }\n",
              "\n",
              "    .dataframe tbody tr th {\n",
              "        vertical-align: top;\n",
              "    }\n",
              "\n",
              "    .dataframe thead th {\n",
              "        text-align: right;\n",
              "    }\n",
              "</style>\n",
              "<table border=\"1\" class=\"dataframe\">\n",
              "  <thead>\n",
              "    <tr style=\"text-align: right;\">\n",
              "      <th></th>\n",
              "      <th>publish_date</th>\n",
              "      <th>headline_text</th>\n",
              "    </tr>\n",
              "  </thead>\n",
              "  <tbody>\n",
              "    <tr>\n",
              "      <th>0</th>\n",
              "      <td>20030219</td>\n",
              "      <td>aba decides against community broadcasting lic...</td>\n",
              "    </tr>\n",
              "    <tr>\n",
              "      <th>1</th>\n",
              "      <td>20030219</td>\n",
              "      <td>act fire witnesses must be aware of defamation</td>\n",
              "    </tr>\n",
              "    <tr>\n",
              "      <th>2</th>\n",
              "      <td>20030219</td>\n",
              "      <td>a g calls for infrastructure protection summit</td>\n",
              "    </tr>\n",
              "    <tr>\n",
              "      <th>3</th>\n",
              "      <td>20030219</td>\n",
              "      <td>air nz staff in aust strike for pay rise</td>\n",
              "    </tr>\n",
              "    <tr>\n",
              "      <th>4</th>\n",
              "      <td>20030219</td>\n",
              "      <td>air nz strike to affect australian travellers</td>\n",
              "    </tr>\n",
              "  </tbody>\n",
              "</table>\n",
              "</div>"
            ],
            "text/plain": [
              "   publish_date                                      headline_text\n",
              "0      20030219  aba decides against community broadcasting lic...\n",
              "1      20030219     act fire witnesses must be aware of defamation\n",
              "2      20030219     a g calls for infrastructure protection summit\n",
              "3      20030219           air nz staff in aust strike for pay rise\n",
              "4      20030219      air nz strike to affect australian travellers"
            ]
          },
          "metadata": {
            "tags": []
          },
          "execution_count": 3
        }
      ]
    },
    {
      "cell_type": "code",
      "metadata": {
        "id": "2S2lv2h1ufXY"
      },
      "source": [
        "!rm -r corpus\n",
        "!mkdir corpus\n",
        "\n",
        "with open('corpus/text.txt', 'w') as out_file:\n",
        "  with open('raw.tsv', 'r') as in_file:\n",
        "    for line in in_file:\n",
        "      headline = line.split('\\t')[1].strip().strip('\"')\n",
        "      out_file.write(headline+\"\\n\")"
      ],
      "execution_count": null,
      "outputs": []
    },
    {
      "cell_type": "code",
      "metadata": {
        "colab": {
          "base_uri": "https://localhost:8080/",
          "height": 204
        },
        "id": "wjd2TQC9unv_",
        "outputId": "72bfc725-5a8f-4dcf-fdbf-5096d8449f8a"
      },
      "source": [
        "text_df = pd.read_csv('corpus/text.txt', sep=\"\\t\")\n",
        "text_df.head()"
      ],
      "execution_count": null,
      "outputs": [
        {
          "output_type": "execute_result",
          "data": {
            "text/html": [
              "<div>\n",
              "<style scoped>\n",
              "    .dataframe tbody tr th:only-of-type {\n",
              "        vertical-align: middle;\n",
              "    }\n",
              "\n",
              "    .dataframe tbody tr th {\n",
              "        vertical-align: top;\n",
              "    }\n",
              "\n",
              "    .dataframe thead th {\n",
              "        text-align: right;\n",
              "    }\n",
              "</style>\n",
              "<table border=\"1\" class=\"dataframe\">\n",
              "  <thead>\n",
              "    <tr style=\"text-align: right;\">\n",
              "      <th></th>\n",
              "      <th>headline_text</th>\n",
              "    </tr>\n",
              "  </thead>\n",
              "  <tbody>\n",
              "    <tr>\n",
              "      <th>0</th>\n",
              "      <td>aba decides against community broadcasting lic...</td>\n",
              "    </tr>\n",
              "    <tr>\n",
              "      <th>1</th>\n",
              "      <td>act fire witnesses must be aware of defamation</td>\n",
              "    </tr>\n",
              "    <tr>\n",
              "      <th>2</th>\n",
              "      <td>a g calls for infrastructure protection summit</td>\n",
              "    </tr>\n",
              "    <tr>\n",
              "      <th>3</th>\n",
              "      <td>air nz staff in aust strike for pay rise</td>\n",
              "    </tr>\n",
              "    <tr>\n",
              "      <th>4</th>\n",
              "      <td>air nz strike to affect australian travellers</td>\n",
              "    </tr>\n",
              "  </tbody>\n",
              "</table>\n",
              "</div>"
            ],
            "text/plain": [
              "                                       headline_text\n",
              "0  aba decides against community broadcasting lic...\n",
              "1     act fire witnesses must be aware of defamation\n",
              "2     a g calls for infrastructure protection summit\n",
              "3           air nz staff in aust strike for pay rise\n",
              "4      air nz strike to affect australian travellers"
            ]
          },
          "metadata": {
            "tags": []
          },
          "execution_count": 31
        }
      ]
    },
    {
      "cell_type": "markdown",
      "metadata": {
        "id": "LjaMNDklKJz0"
      },
      "source": [
        "## Generate Embeddings"
      ]
    },
    {
      "cell_type": "markdown",
      "metadata": {
        "id": "O56VMLVhKM0Z"
      },
      "source": [
        "##### 1) Embedding extraction method "
      ]
    },
    {
      "cell_type": "code",
      "metadata": {
        "id": "1t7Ea_jovJrJ"
      },
      "source": [
        "embed_fn = None\n",
        "\n",
        "def generate_embeddings(text, module_url, random_projection_matrix=None):\n",
        "  # Beam will run this function in different processes that need to\n",
        "  # import hub and load embed_fn (if not previously loaded)\n",
        "  global embed_fn\n",
        "  if embed_fn is None:\n",
        "    embed_fn = hub.load(module_url)\n",
        "  embedding = embed_fn(text).numpy()\n",
        "  if random_projection_matrix is not None:\n",
        "    embedding = embedding.dot(random_projection_matrix)\n",
        "  return text, embedding"
      ],
      "execution_count": null,
      "outputs": []
    },
    {
      "cell_type": "markdown",
      "metadata": {
        "id": "L6AkZSRmFk_g"
      },
      "source": [
        "##### 2) Function for converting to TF record\n",
        "For big data sets, binary file storage format is advantageous as it reduces the size of the file. This could help improve the file load and import time as well as the overall performace of the model which uses it. Tensorflow provides a native way to write in this format (TFRecord). <br>\n",
        "TFRecord is explained in detail in this blog post: [ Tensorflow Records? What they are and how to use them ](https://medium.com/mostly-ai/tensorflow-records-what-they-are-and-how-to-use-them-c46bc4bbb564)"
      ]
    },
    {
      "cell_type": "code",
      "metadata": {
        "id": "uF1LO68IvoLz"
      },
      "source": [
        "def to_tf_example(entries):\n",
        "  examples = []\n",
        "\n",
        "  text_list, embedding_list = entries\n",
        "  for i in range(len(text_list)):\n",
        "    text = text_list[i]\n",
        "    embedding = embedding_list[i]\n",
        "\n",
        "    features = {\n",
        "        'text': tf.train.Feature(\n",
        "            bytes_list=tf.train.BytesList(value=[text.encode('utf-8')])),\n",
        "        'embedding': tf.train.Feature(\n",
        "            float_list=tf.train.FloatList(value=embedding.tolist()))\n",
        "    }\n",
        "\n",
        "    example = tf.train.Example(\n",
        "        features=tf.train.Features(\n",
        "            feature=features)).SerializeToString(deterministic=True)\n",
        "\n",
        "    examples.append(example)\n",
        "\n",
        "  return examples"
      ],
      "execution_count": null,
      "outputs": []
    },
    {
      "cell_type": "markdown",
      "metadata": {
        "id": "KBtp4Go-8RS9"
      },
      "source": [
        "##### 3) Pipeline"
      ]
    },
    {
      "cell_type": "code",
      "metadata": {
        "id": "54zFgWcD8HfJ"
      },
      "source": [
        "def run_hub2emb(args):\n",
        "  '''Runs the embedding generation pipeline'''\n",
        "\n",
        "  options = beam.options.pipeline_options.PipelineOptions(**args)\n",
        "  args = namedtuple(\"options\", args.keys())(*args.values())\n",
        "\n",
        "  with beam.Pipeline(args.runner, options=options) as pipeline:\n",
        "    (\n",
        "        pipeline\n",
        "        | 'Read sentences from files' >> beam.io.ReadFromText(file_pattern=args.data_dir)\n",
        "        | 'Batch elements' >> util.BatchElements(min_batch_size=args.batch_size, max_batch_size=args.batch_size)\n",
        "        | 'Generate embeddings' >> beam.Map(generate_embeddings, args.module_url, args.random_projection_matrix)\n",
        "        | 'Encode to tf example' >> beam.FlatMap(to_tf_example)\n",
        "        | 'Write to TFRecords files' >> beam.io.WriteToTFRecord(\n",
        "            file_path_prefix='{}/emb'.format(args.output_dir),\n",
        "            file_name_suffix='.tfrecords')\n",
        "    )"
      ],
      "execution_count": null,
      "outputs": []
    },
    {
      "cell_type": "markdown",
      "metadata": {
        "id": "26wWoAlG_fN8"
      },
      "source": [
        "##### 4) Generaring Random Projection Weight Matrix \n",
        "<p>Reducing the dimenstionality of the vector using random projections. This helps in reducing the time to build and query the Annoy index.</p>\n",
        "\n"
      ]
    },
    {
      "cell_type": "code",
      "metadata": {
        "id": "usUx-DUe8XZf"
      },
      "source": [
        "def generate_random_projection_weights(original_dim, projected_dim):\n",
        "  random_projection_matrix = None\n",
        "  random_projection_matrix = gaussian_random_matrix(\n",
        "      n_components=projected_dim, n_features=original_dim).T\n",
        "  print(\"A Gaussian random weight matrix was creates with shape of {}\".format(random_projection_matrix.shape))\n",
        "  print('Storing random projection matrix to disk...')\n",
        "  with open('random_projection_matrix', 'wb') as handle:\n",
        "    pickle.dump(random_projection_matrix, \n",
        "                handle, protocol=pickle.HIGHEST_PROTOCOL)\n",
        "\n",
        "  return random_projection_matrix"
      ],
      "execution_count": null,
      "outputs": []
    },
    {
      "cell_type": "markdown",
      "metadata": {
        "id": "yYtqOfYJJer3"
      },
      "source": [
        "##### 5) Run Pipeline"
      ]
    },
    {
      "cell_type": "code",
      "metadata": {
        "colab": {
          "base_uri": "https://localhost:8080/"
        },
        "id": "pL1mG6vAIwKK",
        "outputId": "958b1dbb-3633-4761-c612-a168eb5b1656"
      },
      "source": [
        "import tempfile\n",
        "\n",
        "module_url = \"https://tfhub.dev/google/nnlm-en-dim128/2\"\n",
        "projected_dim = 64\n",
        "\n",
        "output_dir = tempfile.mkdtemp()\n",
        "original_dim = hub.load(module_url)(['']).shape[1]\n",
        "random_projection_matrix = None\n",
        "\n",
        "if projected_dim:\n",
        "  random_projection_matrix = generate_random_projection_weights(\n",
        "      original_dim, projected_dim)\n",
        "\n",
        "args = {\n",
        "    'job_name': 'hub2emb-{}'.format(datetime.utcnow().strftime('%y%m%d-%H%M%S')),\n",
        "    'runner': 'DirectRunner',\n",
        "    'batch_size': 1024,\n",
        "    'data_dir': 'corpus/*.txt',\n",
        "    'output_dir': output_dir,\n",
        "    'module_url': module_url,\n",
        "    'random_projection_matrix': random_projection_matrix,\n",
        "}\n",
        "\n",
        "print(\"Pipeline args are set.\")\n",
        "args"
      ],
      "execution_count": null,
      "outputs": [
        {
          "output_type": "stream",
          "text": [
            "A Gaussian random weight matrix was creates with shape of (128, 64)\n",
            "Storing random projection matrix to disk...\n",
            "Pipeline args are set.\n"
          ],
          "name": "stdout"
        },
        {
          "output_type": "stream",
          "text": [
            "/usr/local/lib/python3.6/dist-packages/sklearn/utils/deprecation.py:87: FutureWarning: Function gaussian_random_matrix is deprecated; gaussian_random_matrix is deprecated in 0.22 and will be removed in version 0.24.\n",
            "  warnings.warn(msg, category=FutureWarning)\n"
          ],
          "name": "stderr"
        },
        {
          "output_type": "execute_result",
          "data": {
            "text/plain": [
              "{'batch_size': 1024,\n",
              " 'data_dir': 'corpus/*.txt',\n",
              " 'job_name': 'hub2emb-201219-190642',\n",
              " 'module_url': 'https://tfhub.dev/google/nnlm-en-dim128/2',\n",
              " 'output_dir': '/tmp/tmpv84yhfyl',\n",
              " 'random_projection_matrix': array([[ 0.12178921, -0.05828368,  0.1996912 , ..., -0.15360454,\n",
              "         -0.0705459 , -0.10283104],\n",
              "        [ 0.00821986, -0.08220833,  0.10074971, ...,  0.22865047,\n",
              "         -0.06353593,  0.12686375],\n",
              "        [-0.07050029,  0.3016821 ,  0.04599832, ...,  0.06371925,\n",
              "         -0.20535336, -0.03088271],\n",
              "        ...,\n",
              "        [-0.21025577,  0.0665988 ,  0.04275995, ...,  0.06973909,\n",
              "          0.06158255, -0.01393402],\n",
              "        [-0.24225089,  0.11765618, -0.04644012, ...,  0.02327763,\n",
              "          0.11400811, -0.02377637],\n",
              "        [-0.11452499, -0.28527941, -0.0642996 , ...,  0.05676581,\n",
              "          0.09466643,  0.03812898]]),\n",
              " 'runner': 'DirectRunner'}"
            ]
          },
          "metadata": {
            "tags": []
          },
          "execution_count": 15
        }
      ]
    },
    {
      "cell_type": "code",
      "metadata": {
        "id": "v37r3vttJgZA",
        "colab": {
          "base_uri": "https://localhost:8080/"
        },
        "outputId": "62894fa2-7fde-4dff-d115-16ca84d92a0b"
      },
      "source": [
        "print(\"Running pipeline...\")\n",
        "%time run_hub2emb(args)\n",
        "print(\"Pipeline is done.\")"
      ],
      "execution_count": null,
      "outputs": [
        {
          "output_type": "stream",
          "text": [
            "Running pipeline...\n",
            "CPU times: user 2min 16s, sys: 1min 46s, total: 4min 3s\n",
            "Wall time: 2min 4s\n",
            "Pipeline is done.\n"
          ],
          "name": "stdout"
        }
      ]
    },
    {
      "cell_type": "code",
      "metadata": {
        "colab": {
          "base_uri": "https://localhost:8080/"
        },
        "id": "TaHpctgRao2W",
        "outputId": "48bed997-58cc-4b9e-c5a5-dcb59b9b498c"
      },
      "source": [
        "ls {output_dir}"
      ],
      "execution_count": null,
      "outputs": [
        {
          "output_type": "stream",
          "text": [
            "emb-00000-of-00001.tfrecords\n"
          ],
          "name": "stdout"
        }
      ]
    },
    {
      "cell_type": "markdown",
      "metadata": {
        "id": "JwSMA1xBfNDL"
      },
      "source": [
        "Read a sample record"
      ]
    },
    {
      "cell_type": "code",
      "metadata": {
        "colab": {
          "base_uri": "https://localhost:8080/"
        },
        "id": "I8wsSG8Xct1a",
        "outputId": "a99fb3ec-98e1-4b79-a849-0dbc1ef9aa25"
      },
      "source": [
        "embed_file = os.path.join(output_dir, 'emb-00000-of-00001.tfrecords')\n",
        "sample = 5\n",
        "\n",
        "# Create a description of the features.\n",
        "feature_description = {\n",
        "    'text': tf.io.FixedLenFeature([], tf.string),\n",
        "    'embedding': tf.io.FixedLenFeature([projected_dim], tf.float32)\n",
        "}\n",
        "\n",
        "def _parse_example(example):\n",
        "  # Parse the input `tf.Example` proto using the dictionary above.\n",
        "  return tf.io.parse_single_example(example, feature_description)\n",
        "\n",
        "dataset = tf.data.TFRecordDataset(embed_file)\n",
        "for record in dataset.take(sample).map(_parse_example):\n",
        "  print(\"{}: {}\".format(record['text'].numpy().decode('utf-8'), record['embedding'].numpy()[:10]))"
      ],
      "execution_count": null,
      "outputs": [
        {
          "output_type": "stream",
          "text": [
            "headline_text: [-0.13770862 -0.33973074 -0.00641254  0.06792866 -0.18257555  0.17030762\n",
            " -0.25820914 -0.07196762 -0.06983764 -0.05482756]\n",
            "aba decides against community broadcasting licence: [ 0.11068262 -0.05284186  0.07776139 -0.03697378  0.09400154 -0.02768139\n",
            " -0.11715365  0.13583417  0.11048616  0.07729341]\n",
            "act fire witnesses must be aware of defamation: [ 0.12514837 -0.05470643  0.11934085  0.02903574 -0.20105729  0.10341746\n",
            "  0.06573067  0.03990437  0.19003376  0.22840866]\n",
            "a g calls for infrastructure protection summit: [ 0.20514376 -0.08683673  0.07670747  0.1445789  -0.14576158 -0.04367733\n",
            " -0.05763638  0.2639629   0.09091558  0.00183326]\n",
            "air nz staff in aust strike for pay rise: [-0.13528588  0.07863335 -0.13245809  0.0767909  -0.03352788 -0.13530774\n",
            " -0.14249204 -0.1614395   0.07354797  0.01717338]\n"
          ],
          "name": "stdout"
        }
      ]
    },
    {
      "cell_type": "markdown",
      "metadata": {
        "id": "nVAdmViPkblr"
      },
      "source": [
        "##### 6) Build index\n",
        "\n",
        "[ANNOY](https://github.com/spotify/annoy) is a C++ library with Python bindings to search for points in space that are close to a given query point. It also creates large read-only file-based data structures that are mmapped into memory. It is built and used by Spotify for music recommendations.\n",
        "\n",
        "This is one way of indexing embeddings for nearest neighbours search. There are many other libraries availble, such as [FAISS](https://ai.facebook.com/tools/faiss/). Its explained in detail in this blog: [Faiss: A library for efficient similarity search](https://engineering.fb.com/2017/03/29/data-infrastructure/faiss-a-library-for-efficient-similarity-search/)"
      ]
    },
    {
      "cell_type": "code",
      "metadata": {
        "id": "HVK1xk-ESxlU"
      },
      "source": [
        "def build_index(embedding_files_pattern, index_filename, vector_length, \n",
        "    metric='angular', num_trees=100):\n",
        "  '''Builds an ANNOY index'''\n",
        "\n",
        "  annoy_index = annoy.AnnoyIndex(vector_length, metric=metric)\n",
        "  # Mapping between the item and its identifier in the index\n",
        "  mapping = {}\n",
        "\n",
        "  embed_files = tf.io.gfile.glob(embedding_files_pattern)\n",
        "  num_files = len(embed_files)\n",
        "  print('Found {} embedding file(s).'.format(num_files))\n",
        "\n",
        "  item_counter = 0\n",
        "  for i, embed_file in enumerate(embed_files):\n",
        "    print('Loading embeddings in file {} of {}...'.format(i+1, num_files))\n",
        "    dataset = tf.data.TFRecordDataset(embed_file)\n",
        "    for record in dataset.map(_parse_example):\n",
        "      text = record['text'].numpy().decode(\"utf-8\")\n",
        "      embedding = record['embedding'].numpy()\n",
        "      mapping[item_counter] = text\n",
        "      annoy_index.add_item(item_counter, embedding)\n",
        "      item_counter += 1\n",
        "      if item_counter % 100000 == 0:\n",
        "        print('{} items loaded to the index'.format(item_counter))\n",
        "\n",
        "  print('A total of {} items added to the index'.format(item_counter))\n",
        "\n",
        "  print('Building the index with {} trees...'.format(num_trees))\n",
        "  annoy_index.build(n_trees=num_trees)\n",
        "  print('Index is successfully built.')\n",
        "\n",
        "  print('Saving index to disk...')\n",
        "  annoy_index.save(index_filename)\n",
        "  print('Index is saved to disk.')\n",
        "  print(\"Index file size: {} GB\".format(\n",
        "    round(os.path.getsize(index_filename) / float(1024 ** 3), 2)))\n",
        "  annoy_index.unload()\n",
        "\n",
        "  print('Saving mapping to disk...')\n",
        "  with open(index_filename + '.mapping', 'wb') as handle:\n",
        "    pickle.dump(mapping, handle, protocol=pickle.HIGHEST_PROTOCOL)\n",
        "  print('Mapping is saved to disk.')\n",
        "  print(\"Mapping file size: {} MB\".format(\n",
        "    round(os.path.getsize(index_filename + '.mapping') / float(1024 ** 2), 2)))"
      ],
      "execution_count": null,
      "outputs": []
    },
    {
      "cell_type": "code",
      "metadata": {
        "colab": {
          "base_uri": "https://localhost:8080/"
        },
        "id": "KCy2iFKLl_vx",
        "outputId": "490cc056-3088-443d-d5c7-4ed425631661"
      },
      "source": [
        "embedding_files = \"{}/emb-*.tfrecords\".format(output_dir)\n",
        "embedding_dimension = projected_dim\n",
        "index_filename = \"index\"\n",
        "\n",
        "!rm {index_filename}\n",
        "!rm {index_filename}.mapping\n",
        "\n",
        "%time build_index(embedding_files, index_filename, embedding_dimension)"
      ],
      "execution_count": null,
      "outputs": [
        {
          "output_type": "stream",
          "text": [
            "rm: cannot remove 'index': No such file or directory\n",
            "rm: cannot remove 'index.mapping': No such file or directory\n",
            "Found 1 embedding file(s).\n",
            "Loading embeddings in file 1 of 1...\n",
            "100000 items loaded to the index\n",
            "200000 items loaded to the index\n",
            "300000 items loaded to the index\n",
            "400000 items loaded to the index\n",
            "500000 items loaded to the index\n",
            "600000 items loaded to the index\n",
            "700000 items loaded to the index\n",
            "800000 items loaded to the index\n",
            "900000 items loaded to the index\n",
            "1000000 items loaded to the index\n",
            "1100000 items loaded to the index\n",
            "A total of 1103664 items added to the index\n",
            "Building the index with 100 trees...\n",
            "Index is successfully built.\n",
            "Saving index to disk...\n",
            "Index is saved to disk.\n",
            "Index file size: 1.6 GB\n",
            "Saving mapping to disk...\n",
            "Mapping is saved to disk.\n",
            "Mapping file size: 50.61 MB\n",
            "CPU times: user 11min 18s, sys: 49.1 s, total: 12min 7s\n",
            "Wall time: 8min 59s\n"
          ],
          "name": "stdout"
        }
      ]
    },
    {
      "cell_type": "markdown",
      "metadata": {
        "id": "8auOH1Knr5sE"
      },
      "source": [
        "##### 7) Similarity matching"
      ]
    },
    {
      "cell_type": "code",
      "metadata": {
        "colab": {
          "base_uri": "https://localhost:8080/"
        },
        "id": "GcAYrXlXrj9U",
        "outputId": "800198e8-a8c0-4a09-bc74-054a5e58602f"
      },
      "source": [
        "index = annoy.AnnoyIndex(embedding_dimension)\n",
        "index.load(index_filename, prefault=True)\n",
        "print('Annoy index is loaded.')\n",
        "with open(index_filename + '.mapping', 'rb') as handle:\n",
        "  mapping = pickle.load(handle)\n",
        "print('Mapping file is loaded.')"
      ],
      "execution_count": null,
      "outputs": [
        {
          "output_type": "stream",
          "text": [
            "/usr/local/lib/python3.6/dist-packages/ipykernel_launcher.py:1: FutureWarning: The default argument for metric will be removed in future version of Annoy. Please pass metric='angular' explicitly.\n",
            "  \"\"\"Entry point for launching an IPython kernel.\n"
          ],
          "name": "stderr"
        },
        {
          "output_type": "stream",
          "text": [
            "Annoy index is loaded.\n",
            "Mapping file is loaded.\n"
          ],
          "name": "stdout"
        }
      ]
    },
    {
      "cell_type": "code",
      "metadata": {
        "id": "J60dP6SPu4fT"
      },
      "source": [
        "def find_similar_items(embedding, num_matches=5):\n",
        "  '''Finds similar items to a given embedding in the ANN index'''\n",
        "  ids = index.get_nns_by_vector(\n",
        "  embedding, num_matches, search_k=-1, include_distances=False)\n",
        "  items = [mapping[i] for i in ids]\n",
        "  return items"
      ],
      "execution_count": null,
      "outputs": []
    },
    {
      "cell_type": "code",
      "metadata": {
        "colab": {
          "base_uri": "https://localhost:8080/"
        },
        "id": "ByekbMWBsMS-",
        "outputId": "f2c454c1-1f1b-45a8-9f03-3883571f2955"
      },
      "source": [
        "# Load the TF-Hub module\n",
        "print(\"Loading the TF-Hub module...\")\n",
        "%time embed_fn = hub.load(module_url)\n",
        "print(\"TF-Hub module is loaded.\")\n",
        "\n",
        "random_projection_matrix = None\n",
        "if os.path.exists('random_projection_matrix'):\n",
        "  print(\"Loading random projection matrix...\")\n",
        "  with open('random_projection_matrix', 'rb') as handle:\n",
        "    random_projection_matrix = pickle.load(handle)\n",
        "  print('random projection matrix is loaded.')\n",
        "\n",
        "def extract_embeddings(query):\n",
        "  '''Generates the embedding for the query'''\n",
        "  query_embedding =  embed_fn([query])[0].numpy()\n",
        "  if random_projection_matrix is not None:\n",
        "    query_embedding = query_embedding.dot(random_projection_matrix)\n",
        "  return query_embedding"
      ],
      "execution_count": null,
      "outputs": [
        {
          "output_type": "stream",
          "text": [
            "Loading the TF-Hub module...\n",
            "CPU times: user 1.98 s, sys: 1.39 s, total: 3.36 s\n",
            "Wall time: 6.3 s\n",
            "TF-Hub module is loaded.\n",
            "Loading random projection matrix...\n",
            "random projection matrix is loaded.\n"
          ],
          "name": "stdout"
        }
      ]
    },
    {
      "cell_type": "code",
      "metadata": {
        "colab": {
          "base_uri": "https://localhost:8080/"
        },
        "id": "Cnh1sh85t-vN",
        "outputId": "44f08ea3-f09b-48a9-83cd-c359bc2e99fd"
      },
      "source": [
        "extract_embeddings(\"Hello World!\")"
      ],
      "execution_count": null,
      "outputs": [
        {
          "output_type": "execute_result",
          "data": {
            "text/plain": [
              "array([ 1.17241136e-01,  2.62062729e-02, -3.33819925e-02, -5.46151620e-02,\n",
              "        1.36114855e-02, -1.41464184e-01, -3.60374490e-01,  1.43173049e-01,\n",
              "       -1.09221070e-01, -2.36616821e-04,  1.51816261e-03, -5.28215226e-02,\n",
              "       -2.58640195e-02, -1.53519420e-01, -8.97222777e-02,  2.00432325e-01,\n",
              "        1.03531104e-01, -1.95038122e-01,  4.12229890e-02, -1.23485297e-01,\n",
              "        5.43044080e-02, -7.06551569e-02, -1.45756273e-01,  9.81731250e-02,\n",
              "       -2.50568607e-02, -3.80514622e-02,  1.16389707e-01, -5.83222522e-02,\n",
              "        1.95557139e-02, -1.36746520e-01, -2.43734727e-02, -4.80600038e-02,\n",
              "        3.82312758e-02, -1.04549729e-01, -1.84006667e-02, -1.94254185e-02,\n",
              "       -1.25843178e-01, -1.41848847e-01, -1.51613722e-01,  1.26761116e-01,\n",
              "        1.52873269e-02,  4.76524508e-02,  6.15889394e-02, -5.74508806e-02,\n",
              "       -7.20210680e-02,  2.26732823e-01, -8.75514801e-02,  1.08207161e-01,\n",
              "       -1.98334148e-01, -6.40587430e-02,  1.99382623e-01,  6.17804674e-02,\n",
              "        1.99270363e-03,  1.02082115e-01, -1.25296564e-01,  1.25312007e-02,\n",
              "        2.11060889e-02,  1.64092696e-01, -1.18476822e-01, -8.81111863e-02,\n",
              "       -5.41057553e-02, -2.68657827e-01,  5.24747949e-02, -1.69352833e-01])"
            ]
          },
          "metadata": {
            "tags": []
          },
          "execution_count": 33
        }
      ]
    },
    {
      "cell_type": "markdown",
      "metadata": {
        "id": "bbQa1dG2vpCD"
      },
      "source": [
        "##### 8) Search Results"
      ]
    },
    {
      "cell_type": "code",
      "metadata": {
        "colab": {
          "base_uri": "https://localhost:8080/"
        },
        "id": "ex1LPqFIufkZ",
        "outputId": "3bcafb15-3592-45b5-91b0-25d97d6b2c72"
      },
      "source": [
        "query = \"problems in industry\"\n",
        "\n",
        "print(\"Generating embedding for the query...\")\n",
        "%time query_embedding = extract_embeddings(query)\n",
        "\n",
        "print(\"\")\n",
        "print(\"Finding relevant items in the index...\")\n",
        "%time items = find_similar_items(query_embedding, 10)\n",
        "\n",
        "print(\"\")\n",
        "print(\"Results:\")\n",
        "print(\"=========\")\n",
        "for item in items:\n",
        "  print(item)"
      ],
      "execution_count": null,
      "outputs": [
        {
          "output_type": "stream",
          "text": [
            "Generating embedding for the query...\n",
            "CPU times: user 4.57 ms, sys: 0 ns, total: 4.57 ms\n",
            "Wall time: 3.59 ms\n",
            "\n",
            "Finding relevant items in the index...\n",
            "CPU times: user 6.08 ms, sys: 0 ns, total: 6.08 ms\n",
            "Wall time: 6.27 ms\n",
            "\n",
            "Results:\n",
            "=========\n",
            "hospitals in crisis\n",
            "taxi industry in turmoil\n",
            "troubled money markets threaten future of inpex\n",
            "shipping industry in strife\n",
            "mareeba council claims success in moving\n",
            "floods crisis worsens in thailand\n",
            "perth unit owners in for prolonged market pain amid slow market\n",
            "areas of concern in greens labor agreement\n",
            "crisis in ossetia worsens\n",
            "progress in nursing dispute\n"
          ],
          "name": "stdout"
        }
      ]
    }
  ]
}